{
 "cells": [
  {
   "cell_type": "markdown",
   "id": "e6e3a49b",
   "metadata": {},
   "source": [
    "### Define ECR repository and model tar file name"
   ]
  },
  {
   "cell_type": "code",
   "execution_count": null,
   "id": "5e853c32",
   "metadata": {},
   "outputs": [],
   "source": [
    "ecr_repo_name = \"serverless_container_repo\"\n",
    "model_tar_file_name = \"u2net_model.tar.gz\""
   ]
  },
  {
   "cell_type": "markdown",
   "id": "1ebfe1e2",
   "metadata": {},
   "source": [
    "### Download model file and Create a tar file of model"
   ]
  },
  {
   "cell_type": "code",
   "execution_count": null,
   "id": "d6890042",
   "metadata": {
    "scrolled": true
   },
   "outputs": [],
   "source": [
    "!pip install gdown\n",
    "!python setup_model_weights.py\n",
    "!tar -czvf $model_tar_file_name u2net.pth"
   ]
  },
  {
   "cell_type": "markdown",
   "id": "ba342d16",
   "metadata": {},
   "source": [
    "### Upload the tar.gz file to s3  \n",
    "#### Before running the cell, please update the s3 bucket name"
   ]
  },
  {
   "cell_type": "code",
   "execution_count": null,
   "id": "89439664",
   "metadata": {},
   "outputs": [],
   "source": [
    "import boto3\n",
    "s3_bucket_name = \"ENTER YOUR S3 BUCKET NAME HERE\"\n",
    "s3_client = boto3.client('s3')\n",
    "model_s3_key = \"u2net_model/\" + model_tar_file_name\n",
    "result = s3_client.upload_file(model_tar_file_name, s3_bucket_name, model_s3_key)\n",
    "u2net_model_url = \"https://{}.s3.amazonaws.com/{}\".format(s3_bucket_name, model_s3_key)\n",
    "print(\"Model file successfully uploaded to s3\")\n",
    "print(\"Model s3 URL: \",u2net_model_url)"
   ]
  },
  {
   "cell_type": "markdown",
   "id": "729af290",
   "metadata": {},
   "source": [
    "### Build docker image for the model and push it to ECR repository"
   ]
  },
  {
   "cell_type": "code",
   "execution_count": null,
   "id": "38246241",
   "metadata": {
    "scrolled": true
   },
   "outputs": [],
   "source": [
    "!bash build_and_push.sh $ecr_repo_name"
   ]
  },
  {
   "cell_type": "markdown",
   "id": "defe1042",
   "metadata": {},
   "source": [
    "### Import required libraries"
   ]
  },
  {
   "cell_type": "code",
   "execution_count": null,
   "id": "a660b53b",
   "metadata": {},
   "outputs": [],
   "source": [
    "%%time\n",
    "import sagemaker\n",
    "from sagemaker import get_execution_role\n",
    "\n",
    "runtime = boto3.client(service_name=\"runtime.sagemaker\")"
   ]
  },
  {
   "cell_type": "markdown",
   "id": "69ee796f",
   "metadata": {},
   "source": [
    "### Initialize Parameters"
   ]
  },
  {
   "cell_type": "code",
   "execution_count": null,
   "id": "4bb882ef",
   "metadata": {},
   "outputs": [],
   "source": [
    "sm_client = boto3.client(service_name=\"sagemaker\")\n",
    "\n",
    "account_id = boto3.client(\"sts\").get_caller_identity()[\"Account\"]\n",
    "region = boto3.Session().region_name\n",
    "\n",
    "role = get_execution_role()\n",
    "print(account_id, region, role)"
   ]
  },
  {
   "cell_type": "markdown",
   "id": "172b2802",
   "metadata": {},
   "source": [
    "### Define Model, Configuration and Endpoint names"
   ]
  },
  {
   "cell_type": "code",
   "execution_count": null,
   "id": "64fff477",
   "metadata": {},
   "outputs": [],
   "source": [
    "u2net_model_name = \"serverless-endpoint-u2net-model\"\n",
    "u2net_endpoint_config_name = \"serverless-endpoint-u2net-config\" \n",
    "# If you change the endpoint name here, you'll also need to update it in the lambda function code\n",
    "u2net_endpoint_name = \"serverless-endpoint-u2net\""
   ]
  },
  {
   "cell_type": "markdown",
   "id": "03053b07",
   "metadata": {},
   "source": [
    "### Create a model with Model weights file and ECR container image"
   ]
  },
  {
   "cell_type": "code",
   "execution_count": null,
   "id": "50923b22",
   "metadata": {},
   "outputs": [],
   "source": [
    "u2net_container = \"{}.dkr.ecr.{}.amazonaws.com/{}:latest\".format(\n",
    "    account_id, region, ecr_repo_name\n",
    ")\n",
    "\n",
    "print(\"Creating Model: \" + u2net_model_name)\n",
    "print(\"Container image for the model: \" + u2net_container)\n",
    "\n",
    "containers = {\"Image\": u2net_container, \"ModelDataUrl\":u2net_model_url, \"Mode\": \"SingleModel\"}\n",
    "\n",
    "u2net_create_model_response = sm_client.create_model(\n",
    "    ModelName=u2net_model_name, ExecutionRoleArn=role, Containers=[containers]\n",
    ")\n",
    "\n",
    "print(\"Model created successfully\")"
   ]
  },
  {
   "cell_type": "markdown",
   "id": "f8523f9d",
   "metadata": {},
   "source": [
    "### Create Endpoint configuration"
   ]
  },
  {
   "cell_type": "code",
   "execution_count": null,
   "id": "db68b676",
   "metadata": {},
   "outputs": [],
   "source": [
    "print(\"Creating Endpoint configuration: \" + u2net_endpoint_config_name)\n",
    "\n",
    "u2net_create_endpoint_config_response = sm_client.create_endpoint_config(\n",
    "    EndpointConfigName=u2net_endpoint_config_name,\n",
    "    ProductionVariants=[\n",
    "        {\n",
    "            \"ModelName\": u2net_model_name,\n",
    "            \"VariantName\": \"test\",\n",
    "            'ServerlessConfig': {\n",
    "                'MemorySizeInMB': 6144,\n",
    "                'MaxConcurrency': 2\n",
    "            }\n",
    "        }\n",
    "    ],\n",
    ")\n",
    "print(\"Endpoint Configuration created successfully\")"
   ]
  },
  {
   "cell_type": "markdown",
   "id": "a1267866",
   "metadata": {},
   "source": [
    "### Create an Endpoint  \n",
    "#### The endpoint will take about 10-15 minutes for creating"
   ]
  },
  {
   "cell_type": "code",
   "execution_count": null,
   "id": "d12bbf67",
   "metadata": {},
   "outputs": [],
   "source": [
    "print(\"Creating Endpoint: \" + u2net_endpoint_name)\n",
    "u2net_create_endpoint_response = sm_client.create_endpoint(\n",
    "    EndpointName=u2net_endpoint_name, EndpointConfigName=u2net_endpoint_config_name\n",
    ")\n",
    "\n",
    "print(\"Waiting for {} endpoint to be in service...\".format(u2net_endpoint_name))\n",
    "u2net_waiter = sm_client.get_waiter(\"endpoint_in_service\")\n",
    "u2net_waiter.wait(EndpointName=u2net_endpoint_name)\n",
    "print(\"Endpoint created successfully\")"
   ]
  },
  {
   "cell_type": "markdown",
   "id": "52c2109d",
   "metadata": {},
   "source": [
    "### Create a Lambda Function\n",
    "#### Enter the IAM role name before running the cell"
   ]
  },
  {
   "cell_type": "code",
   "execution_count": null,
   "id": "a49ff19a",
   "metadata": {},
   "outputs": [],
   "source": [
    "lambda_client = boto3.client(\"lambda\")\n",
    "iam_role_name = \"ENTER YOUR IAM ROLE NAME HERE\"\n",
    "iam_role_arn = \"arn:aws:iam::{}:role/{}\".format(account_id, iam_role_name)\n",
    "lambda_function_name = 'webapp-host-lambda'\n",
    "\n",
    "with open(\"lambda_function.zip\", 'rb') as file_data:\n",
    "    bytes_content = file_data.read()\n",
    "\n",
    "    response = lambda_client.create_function(\n",
    "            Code={\n",
    "                'ZipFile': bytes_content\n",
    "            },\n",
    "            FunctionName=lambda_function_name,\n",
    "            Handler='lambda_function.lambda_handler',\n",
    "            Publish=True,\n",
    "            Role=iam_role_arn,\n",
    "            Runtime='python3.9',\n",
    "            Timeout=60\n",
    "        )\n",
    "    lambda_arn = response['FunctionArn']\n",
    "print(\"Lambda function created successfully\")"
   ]
  },
  {
   "cell_type": "markdown",
   "id": "691b7db0",
   "metadata": {},
   "source": [
    "### Create API Gateway"
   ]
  },
  {
   "cell_type": "code",
   "execution_count": null,
   "id": "122f0aea",
   "metadata": {},
   "outputs": [],
   "source": [
    "api_client = boto3.client('apigateway')\n",
    "\n",
    "rest_api_response = api_client.create_rest_api(\n",
    "    name='webapp-api',\n",
    "    binaryMediaTypes=[\n",
    "        'multipart/form-data',\n",
    "    ],\n",
    "    endpointConfiguration={\n",
    "        'types': [\n",
    "            'REGIONAL'\n",
    "        ]\n",
    "    }\n",
    ")\n",
    "\n",
    "rest_api_id = rest_api_response[\"id\"]\n",
    "\n",
    "# Get the rest api's root id\n",
    "root_resource_id = api_client.get_resources(\n",
    "restApiId=rest_api_id\n",
    ")['items'][0]['id']\n",
    "\n",
    "# Create an api resource\n",
    "api_resource = api_client.create_resource(\n",
    "restApiId=rest_api_id,\n",
    "parentId=root_resource_id,\n",
    "pathPart='inference'\n",
    ")\n",
    "\n",
    "api_resource_id = api_resource['id']\n",
    "\n",
    "# Add methods to the rest api resource\n",
    "api_method = api_client.put_method(\n",
    "restApiId=rest_api_id,\n",
    "resourceId=root_resource_id,\n",
    "httpMethod='POST',\n",
    "authorizationType='NONE'\n",
    ")\n",
    "\n",
    "put_method_res = api_client.put_method_response(\n",
    "restApiId=rest_api_id,\n",
    "resourceId=root_resource_id,\n",
    "httpMethod='POST',\n",
    "statusCode='200'\n",
    ")\n",
    "\n",
    "api_method = api_client.put_method(\n",
    "restApiId=rest_api_id,\n",
    "resourceId=api_resource_id,\n",
    "httpMethod='POST',\n",
    "authorizationType='NONE'\n",
    ")\n",
    "\n",
    "put_method_res = api_client.put_method_response(\n",
    "restApiId=rest_api_id,\n",
    "resourceId=api_resource_id,\n",
    "httpMethod='POST',\n",
    "statusCode='200',\n",
    "responseParameters={\n",
    "    'method.response.header.Content-Type': True\n",
    "}\n",
    ")\n",
    "\n",
    "arn_uri=\"arn:aws:apigateway:{}:lambda:path/2015-03-31/functions/{}/invocations\".format(region,lambda_arn)\n",
    "\n",
    "put_integration = api_client.put_integration(\n",
    "restApiId=rest_api_id,\n",
    "resourceId=root_resource_id,\n",
    "httpMethod='POST',\n",
    "type='AWS_PROXY',\n",
    "integrationHttpMethod='POST',\n",
    "uri=arn_uri,\n",
    "credentials=iam_role_arn\n",
    ")\n",
    "\n",
    "put_integration_response = api_client.put_integration_response(\n",
    "restApiId=rest_api_id,\n",
    "resourceId=root_resource_id,\n",
    "httpMethod='POST',\n",
    "statusCode='200',\n",
    "selectionPattern=''\n",
    ")\n",
    "\n",
    "\n",
    "\n",
    "put_integration = api_client.put_integration(\n",
    "restApiId=rest_api_id,\n",
    "resourceId=api_resource_id,\n",
    "httpMethod='POST',\n",
    "type='AWS',\n",
    "integrationHttpMethod='POST',\n",
    "uri=arn_uri,\n",
    "credentials=iam_role_arn,\n",
    "requestTemplates={\n",
    "  \"multipart/form-data\":\"{\\\"content\\\":\\\"$input.body\\\"}\"\n",
    "},\n",
    "passthroughBehavior='WHEN_NO_TEMPLATES'\n",
    ")\n",
    "\n",
    "put_integration_response = api_client.put_integration_response(\n",
    "restApiId=rest_api_id,\n",
    "resourceId=api_resource_id,\n",
    "httpMethod='POST',\n",
    "statusCode='200',\n",
    "selectionPattern='',\n",
    "responseParameters={\n",
    "        'method.response.header.Content-Type': \"'text/html'\"\n",
    "    },\n",
    "responseTemplates={\n",
    "  \"text/html\":\"$input.path('$').body\"\n",
    "}\n",
    ")\n",
    "\n",
    "# Deploy the api\n",
    "stage = 'dev'\n",
    "deployment = api_client.create_deployment(\n",
    "restApiId=rest_api_id,\n",
    "stageName=stage,\n",
    ")\n",
    "print(\"Use following url to see serverless hosted webapp\")\n",
    "print(\"https://{}.execute-api.{}.amazonaws.com/{}\".format(rest_api_id, region, stage))"
   ]
  },
  {
   "cell_type": "markdown",
   "id": "1ae92735",
   "metadata": {},
   "source": [
    "### Delete the resources"
   ]
  },
  {
   "cell_type": "code",
   "execution_count": null,
   "id": "cc5f46f6",
   "metadata": {},
   "outputs": [],
   "source": [
    "sm_client.delete_endpoint(EndpointName=u2net_endpoint_name)\n",
    "sm_client.delete_endpoint_config(EndpointConfigName=u2net_endpoint_config_name)\n",
    "sm_client.delete_model(ModelName=u2net_model_name)\n",
    "print('Successfully deleted endpoint related files')"
   ]
  },
  {
   "cell_type": "code",
   "execution_count": null,
   "id": "83f30e3d",
   "metadata": {},
   "outputs": [],
   "source": [
    "lambda_client.delete_function(FunctionName=lambda_function_name)"
   ]
  },
  {
   "cell_type": "code",
   "execution_count": null,
   "id": "9c40e1d6",
   "metadata": {},
   "outputs": [],
   "source": [
    "api_client.delete_rest_api(restApiId=rest_api_id)"
   ]
  }
 ],
 "metadata": {
  "kernelspec": {
   "display_name": "conda_python3",
   "language": "python",
   "name": "conda_python3"
  },
  "language_info": {
   "codemirror_mode": {
    "name": "ipython",
    "version": 3
   },
   "file_extension": ".py",
   "mimetype": "text/x-python",
   "name": "python",
   "nbconvert_exporter": "python",
   "pygments_lexer": "ipython3",
   "version": "3.6.13"
  }
 },
 "nbformat": 4,
 "nbformat_minor": 5
}
